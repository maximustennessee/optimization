{
 "cells": [
  {
   "cell_type": "markdown",
   "metadata": {},
   "source": [
    "## Day 9: Solving Linear Programming Problems with PuLP\n",
    "Linear programming problems can be solved using a variety of tools. Today, we introduce PuLP—a Python library that lets you define decision variables, set up objective functions, and impose constraints in a clear, human‐readable way. Unlike the previous lesson where we used SciPy’s linprog, PuLP gives you a more flexible and intuitive modeling interface.\n",
    "\n",
    "### Problem Statement\n",
    "A factory produces two products, A and B. The goal is to maximize profit given the following information:\n",
    "\n",
    "#### Profit per unit:\n",
    "\n",
    "Product A: $5\n",
    "\n",
    "Product B: $4\n",
    "\n",
    "#### Resource requirements:\n",
    "\n",
    "Each unit of product A requires 2 hours of machine time and 3 hours of labor.\n",
    "\n",
    "Each unit of product B requires 3 hours of machine time and 2 hours of labor.\n",
    "\n",
    "#### Resource availability:\n",
    "\n",
    "Machine time: 60 hours\n",
    "\n",
    "Labor: 60 hours\n",
    "\n",
    "Nonnegativity: \n",
    "\n",
    "x≥0 and y≥0, where x and y represent the number of units produced for products A and B, respectively.\n",
    "\n",
    "#### The objective is to maximize profit:\n",
    "\n",
    "P(x,y)=5x+4y,\n",
    "\n",
    "subject to the constraints:\n",
    "\n",
    "Machine time: \n",
    "\n",
    "2x+3y≤60\n",
    "\n",
    "Labor: \n",
    "\n",
    "3x+2y≤60\n",
    "\n",
    "Nonnegativity: \n",
    "\n",
    "x,y≥0\n",
    "\n",
    "Since PuLP supports maximization directly, we will set up the problem as a maximization."
   ]
  },
  {
   "cell_type": "code",
   "execution_count": 1,
   "metadata": {},
   "outputs": [],
   "source": [
    "# Import pulp and create a problem instance\n",
    "\n",
    "import pulp as pl\n",
    "\n",
    "problem = pl.LpProblem(\"Factory_Profit_Maximization\", pl.LpMaximize)"
   ]
  },
  {
   "cell_type": "code",
   "execution_count": 2,
   "metadata": {},
   "outputs": [],
   "source": [
    "# Define the decision variables\n",
    "\n",
    "x = pl.LpVariable(\"x\", lowBound=0) # Units of product A\n",
    "y = pl.LpVariable(\"y\", lowBound=0) # Units of product B"
   ]
  },
  {
   "cell_type": "code",
   "execution_count": 4,
   "metadata": {},
   "outputs": [],
   "source": [
    "# Define the objective function to maximize\n",
    "\n",
    "problem += 5*x + 4*y, \"Total Profit\""
   ]
  },
  {
   "cell_type": "code",
   "execution_count": 3,
   "metadata": {},
   "outputs": [],
   "source": [
    "# Define constraints\n",
    "\n",
    "problem += 2*x + 3*y <= 60, \"Machine_Time\"\n",
    "\n",
    "problem += 3*x + 2*y <= 60, \"Labor\""
   ]
  },
  {
   "cell_type": "code",
   "execution_count": 7,
   "metadata": {},
   "outputs": [
    {
     "name": "stdout",
     "output_type": "stream",
     "text": [
      "Welcome to the CBC MILP Solver \n",
      "Version: 2.10.3 \n",
      "Build Date: Dec 15 2019 \n",
      "\n",
      "command line - /Users/max.howard/development/optimization/env/lib/python3.13/site-packages/pulp/solverdir/cbc/osx/64/cbc /var/folders/4_/zpvbqjvs2f3b5dpcg0lk0tsc0000gn/T/88b9f1d824544d5bbdb8a6faedf1ca94-pulp.mps -max -timeMode elapsed -branch -printingOptions all -solution /var/folders/4_/zpvbqjvs2f3b5dpcg0lk0tsc0000gn/T/88b9f1d824544d5bbdb8a6faedf1ca94-pulp.sol (default strategy 1)\n",
      "At line 2 NAME          MODEL\n",
      "At line 3 ROWS\n",
      "At line 7 COLUMNS\n",
      "At line 14 RHS\n",
      "At line 17 BOUNDS\n",
      "At line 18 ENDATA\n",
      "Problem MODEL has 2 rows, 2 columns and 4 elements\n",
      "Coin0008I MODEL read with 0 errors\n",
      "Option for timeMode changed from cpu to elapsed\n",
      "Presolve 2 (0) rows, 2 (0) columns and 4 (0) elements\n",
      "0  Obj -0 Dual inf 8.9999998 (2)\n",
      "0  Obj -0 Dual inf 8.9999998 (2)\n",
      "2  Obj 108\n",
      "Optimal - objective value 108\n",
      "Optimal objective 108 - 2 iterations time 0.002\n",
      "Option for printingOptions changed from normal to all\n",
      "Total time (CPU seconds):       0.00   (Wallclock seconds):       0.01\n",
      "\n",
      "Optimal solution: x= 12.0 y= 12.0\n",
      "Maximum profit: 108.0\n"
     ]
    }
   ],
   "source": [
    "problem.solve()\n",
    "\n",
    "optimal_x = pl.value(x)\n",
    "optimal_y = pl.value(y)\n",
    "optimal_profit = pl.value(problem.objective)\n",
    "\n",
    "print(\"Optimal solution: x=\", optimal_x, \"y=\", optimal_y)\n",
    "print(\"Maximum profit:\", optimal_profit)"
   ]
  }
 ],
 "metadata": {
  "kernelspec": {
   "display_name": "env",
   "language": "python",
   "name": "python3"
  },
  "language_info": {
   "codemirror_mode": {
    "name": "ipython",
    "version": 3
   },
   "file_extension": ".py",
   "mimetype": "text/x-python",
   "name": "python",
   "nbconvert_exporter": "python",
   "pygments_lexer": "ipython3",
   "version": "3.13.1"
  }
 },
 "nbformat": 4,
 "nbformat_minor": 2
}
