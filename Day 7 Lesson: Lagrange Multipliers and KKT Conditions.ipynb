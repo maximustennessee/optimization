{
 "cells": [
  {
   "cell_type": "markdown",
   "metadata": {},
   "source": [
    "### Day 7: Lagrange Multipliers and KKT Conditions\n",
    "\n",
    "In this lesson, we'll explore how to solve constrained optimization problems using the Lagrangian method combined with the Karush-Kuhn-Tucker (KKT) conditions. We'll work through a guided example where we minimize an objective function subject to both an equality and an inequality constraint. The Lagrangian L(x,y,λ,μ) is our tool to combine the objective and constraints."
   ]
  },
  {
   "cell_type": "code",
   "execution_count": 1,
   "metadata": {},
   "outputs": [],
   "source": [
    "# Use sympy for symbolic paramaters\n",
    "\n",
    "import sympy as sp\n",
    "\n",
    "# Here, x and y represent the decision variables. \n",
    "# The symbol lambda (λ) is for the equality constraint\n",
    "# The symbol mu (μ) is for the inequality constraint.\n",
    "\n",
    "x,y,lam,mu = sp.symbols('x y lam mu', real=True)\n",
    "\n"
   ]
  },
  {
   "cell_type": "code",
   "execution_count": 2,
   "metadata": {},
   "outputs": [],
   "source": [
    "# Define objective function and constraints\n",
    "\n",
    "f = (x-3) ** 2 + (y -2) ** 2\n",
    "\n",
    "eq_const = x + y - 6\n",
    "\n",
    "ineq_const = x - 3.7"
   ]
  },
  {
   "cell_type": "code",
   "execution_count": 3,
   "metadata": {},
   "outputs": [],
   "source": [
    "# Define the lagrangian\n",
    "\n",
    "L = f + lam * eq_const + mu * ineq_const"
   ]
  },
  {
   "cell_type": "code",
   "execution_count": 4,
   "metadata": {},
   "outputs": [],
   "source": [
    "# Differentiate the lagrangian with respect to x and y. This ensures that that gradient of the lagrangian with respect to decision variables is equal to 0\n",
    "\n",
    "Lx = sp.diff(L, x)\n",
    "Ly = sp.diff(L, y)\n",
    "\n",
    "eq1 = sp.Eq(Lx, 0)\n",
    "eq2 = sp.Eq(Ly, 0)"
   ]
  },
  {
   "cell_type": "code",
   "execution_count": 5,
   "metadata": {},
   "outputs": [],
   "source": [
    "# Include the equality constraint and the complementary slackness condition for the inequality constraint.\n",
    "# The complementary slackness condition tells us that either the inequality is active (i.e. x−3.7=0) or the multiplier μ is zero.\n",
    "\n",
    "# Equality constraint\n",
    "eq3 = sp.Eq(eq_const, 0)\n",
    "\n",
    "# Complementary slackness\n",
    "eq4 = sp.Eq(mu * ineq_const, 0)"
   ]
  },
  {
   "cell_type": "code",
   "execution_count": 6,
   "metadata": {},
   "outputs": [
    {
     "name": "stdout",
     "output_type": "stream",
     "text": [
      "[{lam: -1.00000000000000, mu: 0.0, x: 3.50000000000000, y: 2.50000000000000}, {lam: -0.600000000000000, mu: -0.800000000000000, x: 3.70000000000000, y: 2.30000000000000}]\n",
      "0.580000000000000\n"
     ]
    }
   ],
   "source": [
    "# Solve for x,y, lam, mu\n",
    "\n",
    "solution = sp.solve([eq1, eq2, eq3, eq4], (x,y,lam,mu), dict=True)\n",
    "print(solution)\n",
    "\n",
    "x_val,y_val = solution[1].get(x),solution[1].get(y)\n",
    "\n",
    "print((x_val-3) ** 2 + (y_val - 2) ** 2)\n"
   ]
  }
 ],
 "metadata": {
  "kernelspec": {
   "display_name": "env",
   "language": "python",
   "name": "python3"
  },
  "language_info": {
   "codemirror_mode": {
    "name": "ipython",
    "version": 3
   },
   "file_extension": ".py",
   "mimetype": "text/x-python",
   "name": "python",
   "nbconvert_exporter": "python",
   "pygments_lexer": "ipython3",
   "version": "3.13.1"
  }
 },
 "nbformat": 4,
 "nbformat_minor": 2
}
