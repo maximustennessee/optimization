{
 "cells": [
  {
   "cell_type": "code",
   "execution_count": 4,
   "metadata": {},
   "outputs": [],
   "source": [
    "# Compute the analytical derivative of the function in order to update the gradient descent algorithm"
   ]
  },
  {
   "cell_type": "code",
   "execution_count": 2,
   "metadata": {},
   "outputs": [],
   "source": [
    "# Define the function\n",
    "\n",
    "def f(x):\n",
    "\n",
    "    return 2 * x ** 3 - 5 * x ** 2 + 4 * x - 1\n",
    "\n"
   ]
  },
  {
   "cell_type": "code",
   "execution_count": 3,
   "metadata": {},
   "outputs": [],
   "source": [
    "# Compute the analytical derivative\n",
    "\n",
    "def df(x):\n",
    "    \n",
    "    return 6 * x ** 2 - 10 * x + 4"
   ]
  },
  {
   "cell_type": "code",
   "execution_count": 7,
   "metadata": {},
   "outputs": [
    {
     "name": "stdout",
     "output_type": "stream",
     "text": [
      "g(x) of x at x = 2 is 3 and dg(x) is 8\n"
     ]
    }
   ],
   "source": [
    "# Evaluate the derivative at a point\n",
    "\n",
    "x_val = 2\n",
    "print(\"g(x) of x at x =\", x_val, \"is\", f(x_val), \"and dg(x) is\", df(x_val))"
   ]
  }
 ],
 "metadata": {
  "kernelspec": {
   "display_name": "env",
   "language": "python",
   "name": "python3"
  },
  "language_info": {
   "codemirror_mode": {
    "name": "ipython",
    "version": 3
   },
   "file_extension": ".py",
   "mimetype": "text/x-python",
   "name": "python",
   "nbconvert_exporter": "python",
   "pygments_lexer": "ipython3",
   "version": "3.13.1"
  }
 },
 "nbformat": 4,
 "nbformat_minor": 2
}
