{
 "cells": [
  {
   "cell_type": "markdown",
   "metadata": {},
   "source": [
    "### Day 8 Exercise\n",
    "\n",
    "Now, apply what you’ve learned to a new linear programming problem. Do not use any code hints in your solution.\n",
    "\n",
    "Problem Statement\n",
    "\n",
    "You need to maximize the profit function:\n",
    "\n",
    "P(x,y)=4x+6y,\n",
    "\n",
    "subject to:\n",
    "\n",
    "Constraint 1: \n",
    "\n",
    "3x+y≤9\n",
    "\n",
    "Constraint 2: \n",
    "\n",
    "x+y≤4\n",
    "\n",
    "Nonnegativity: \n",
    "\n",
    "x≥0, y≥0"
   ]
  },
  {
   "cell_type": "code",
   "execution_count": 10,
   "metadata": {},
   "outputs": [],
   "source": [
    "import numpy as np\n",
    "from scipy.optimize import linprog"
   ]
  },
  {
   "cell_type": "code",
   "execution_count": 11,
   "metadata": {},
   "outputs": [],
   "source": [
    "# Create the coefficients of the objective function\n",
    "\n",
    "c = [-4, -6]"
   ]
  },
  {
   "cell_type": "code",
   "execution_count": 12,
   "metadata": {},
   "outputs": [],
   "source": [
    "# Write the coefficients of the constraints in matrix for Ax <= b\n",
    "\n",
    "A = [\n",
    "    [3, 1],\n",
    "    [1, 1]\n",
    "]\n",
    "\n",
    "b = [9, 4]"
   ]
  },
  {
   "cell_type": "code",
   "execution_count": 13,
   "metadata": {},
   "outputs": [],
   "source": [
    "# Add the non-negativity condition\n",
    "\n",
    "bounds=[(0, None), (0, None)]"
   ]
  },
  {
   "cell_type": "code",
   "execution_count": 14,
   "metadata": {},
   "outputs": [],
   "source": [
    "# Solve the linear program\n",
    "\n",
    "result = linprog(\n",
    "    c, \n",
    "    A_ub=A, \n",
    "    b_ub=b, \n",
    "    bounds=bounds, \n",
    "    method='highs'\n",
    "    )"
   ]
  },
  {
   "cell_type": "code",
   "execution_count": 15,
   "metadata": {},
   "outputs": [
    {
     "name": "stdout",
     "output_type": "stream",
     "text": [
      "The optimal solution was [0. 4.]\n",
      "The minimized function (maximized profit) was -24.0\n"
     ]
    }
   ],
   "source": [
    "print(\"The optimal solution was\", result.x)\n",
    "print(\"The minimized function (maximized profit) was\", result.fun)"
   ]
  },
  {
   "cell_type": "markdown",
   "metadata": {},
   "source": [
    "Additional Challenge: Modify the problem by adding an extra constraint:\n",
    "\n",
    "x >= 2y\n"
   ]
  },
  {
   "cell_type": "code",
   "execution_count": 18,
   "metadata": {},
   "outputs": [
    {
     "name": "stdout",
     "output_type": "stream",
     "text": [
      "The optimal solution was [2.57142857 1.28571429]\n",
      "The minimized function (maximized profit) was -17.999999999999996\n"
     ]
    }
   ],
   "source": [
    "# Add the new constraint\n",
    "\n",
    "A = [\n",
    "    [3, 1],\n",
    "    [1, 1],\n",
    "    [-1, 2]\n",
    "\n",
    "]\n",
    "\n",
    "b = [9, 4, 0]\n",
    "\n",
    "# Solve the linear program\n",
    "\n",
    "result = linprog(\n",
    "    c, \n",
    "    A_ub=A, \n",
    "    b_ub=b, \n",
    "    bounds=bounds, \n",
    "    method='highs'\n",
    "    )\n",
    "\n",
    "print(\"The optimal solution was\", result.x)\n",
    "print(\"The minimized function (maximized profit) was\", result.fun)"
   ]
  }
 ],
 "metadata": {
  "kernelspec": {
   "display_name": "env",
   "language": "python",
   "name": "python3"
  },
  "language_info": {
   "codemirror_mode": {
    "name": "ipython",
    "version": 3
   },
   "file_extension": ".py",
   "mimetype": "text/x-python",
   "name": "python",
   "nbconvert_exporter": "python",
   "pygments_lexer": "ipython3",
   "version": "3.13.1"
  }
 },
 "nbformat": 4,
 "nbformat_minor": 2
}
