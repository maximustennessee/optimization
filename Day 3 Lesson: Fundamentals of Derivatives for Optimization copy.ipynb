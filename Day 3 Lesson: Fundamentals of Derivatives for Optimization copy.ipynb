{
 "cells": [
  {
   "cell_type": "code",
   "execution_count": 4,
   "metadata": {},
   "outputs": [],
   "source": [
    "# Compute the analytical derivative of the function in order to update the gradient descent algorithm"
   ]
  },
  {
   "cell_type": "code",
   "execution_count": 8,
   "metadata": {},
   "outputs": [],
   "source": [
    "# Define the function of f(x)=(x−2)^2 + 3x \n",
    "\n",
    "def f(x):\n",
    "\n",
    "    return (x - 2) ** 2 + 3 * x\n",
    "\n"
   ]
  },
  {
   "cell_type": "code",
   "execution_count": 9,
   "metadata": {},
   "outputs": [],
   "source": [
    "# Compute the analytical derivative\n",
    "\n",
    "def df(x):\n",
    "    \n",
    "    return 2*x - 1"
   ]
  },
  {
   "cell_type": "code",
   "execution_count": 10,
   "metadata": {},
   "outputs": [
    {
     "name": "stdout",
     "output_type": "stream",
     "text": [
      "The derivative of f at x = 3 is 5\n"
     ]
    }
   ],
   "source": [
    "# Evaluate the derivative at a point\n",
    "\n",
    "x_val = 3\n",
    "print(\"The derivative of f at x =\", x_val, \"is\", df(x_val))"
   ]
  }
 ],
 "metadata": {
  "kernelspec": {
   "display_name": "env",
   "language": "python",
   "name": "python3"
  },
  "language_info": {
   "codemirror_mode": {
    "name": "ipython",
    "version": 3
   },
   "file_extension": ".py",
   "mimetype": "text/x-python",
   "name": "python",
   "nbconvert_exporter": "python",
   "pygments_lexer": "ipython3",
   "version": "3.13.1"
  }
 },
 "nbformat": 4,
 "nbformat_minor": 2
}
