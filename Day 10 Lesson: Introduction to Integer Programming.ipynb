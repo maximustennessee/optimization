{
 "cells": [
  {
   "cell_type": "markdown",
   "metadata": {},
   "source": [
    "## Day 10: Introduction to Integer Programming\n",
    "Integer programming is a branch of optimization where some or all decision variables are required to take integer values. This is particularly useful when your decisions are inherently discrete—such as the number of products to produce, items to schedule, or units to allocate. In today’s lesson, we’ll use PuLP to solve an integer programming problem.\n",
    "\n",
    "#### Problem Statement\n",
    "A company produces two products:\n",
    "\n",
    "Product A with a profit of $10 per unit\n",
    "\n",
    "Product B with a profit of $8 per unit\n",
    "\n",
    "The production is subject to:\n",
    "\n",
    "#### Resource Constraint:\n",
    "\n",
    "Each unit of Product A requires 3 units of raw material, and each unit of Product B requires 2 units of raw material.\n",
    "\n",
    "Total raw material available is 30 units.\n",
    "\n",
    "#### Contract Requirement:\n",
    "\n",
    "The company must produce at least 2 units of Product A.\n",
    "\n",
    "#### Nonnegativity and Integrality:\n",
    "\n",
    "The number of units produced for both products must be nonnegative integers.\n",
    "\n",
    "#### The goal is to maximize profit:\n",
    "\n",
    "Maximize P=10x+8y,\n",
    "\n",
    "subject to:\n",
    "\n",
    "3x+2y≤30,x≥2,x≥0,y≥0,x,y∈Z."
   ]
  },
  {
   "cell_type": "code",
   "execution_count": 18,
   "metadata": {},
   "outputs": [
    {
     "name": "stdout",
     "output_type": "stream",
     "text": [
      "Requirement already satisfied: pulp in ./env/lib/python3.13/site-packages (2.9.0)\n",
      "\n",
      "\u001b[1m[\u001b[0m\u001b[34;49mnotice\u001b[0m\u001b[1;39;49m]\u001b[0m\u001b[39;49m A new release of pip is available: \u001b[0m\u001b[31;49m24.3.1\u001b[0m\u001b[39;49m -> \u001b[0m\u001b[32;49m25.0.1\u001b[0m\n",
      "\u001b[1m[\u001b[0m\u001b[34;49mnotice\u001b[0m\u001b[1;39;49m]\u001b[0m\u001b[39;49m To update, run: \u001b[0m\u001b[32;49mpip install --upgrade pip\u001b[0m\n"
     ]
    }
   ],
   "source": [
    "!pip install pulp\n",
    "import pulp as pl"
   ]
  },
  {
   "cell_type": "code",
   "execution_count": 15,
   "metadata": {},
   "outputs": [],
   "source": [
    "# Setup problem and variables\n",
    "\n",
    "problem = pl.LpProblem(\"Factory profit optimization\", pl.LpMaximize)\n",
    "\n",
    "a = pl.LpVariable('a', lowBound=0, cat=pl.LpInteger)\n",
    "b = pl.LpVariable('b', lowBound=0, cat=pl.LpInteger)"
   ]
  },
  {
   "cell_type": "code",
   "execution_count": 16,
   "metadata": {},
   "outputs": [],
   "source": [
    "# Objective function\n",
    "\n",
    "problem += 10 * a + 8 * b, \"Total profit\"\n",
    "\n",
    "# Constraints\n",
    "\n",
    "problem += 3 * a + 2 * b <= 30, \"Raw material constraint\"\n",
    "\n",
    "problem += a * 2 >= 2, \"Minimum product A constraint \""
   ]
  },
  {
   "cell_type": "code",
   "execution_count": 17,
   "metadata": {},
   "outputs": [
    {
     "name": "stdout",
     "output_type": "stream",
     "text": [
      "Welcome to the CBC MILP Solver \n",
      "Version: 2.10.3 \n",
      "Build Date: Dec 15 2019 \n",
      "\n",
      "command line - /Users/max.howard/development/learning/optimization/env/lib/python3.13/site-packages/pulp/solverdir/cbc/osx/64/cbc /var/folders/4_/zpvbqjvs2f3b5dpcg0lk0tsc0000gn/T/65f1078c338d4c5aa4a351d49ee4d4b2-pulp.mps -max -timeMode elapsed -branch -printingOptions all -solution /var/folders/4_/zpvbqjvs2f3b5dpcg0lk0tsc0000gn/T/65f1078c338d4c5aa4a351d49ee4d4b2-pulp.sol (default strategy 1)\n",
      "At line 2 NAME          MODEL\n",
      "At line 3 ROWS\n",
      "At line 7 COLUMNS\n",
      "At line 17 RHS\n",
      "At line 20 BOUNDS\n",
      "At line 23 ENDATA\n",
      "Problem MODEL has 2 rows, 2 columns and 3 elements\n",
      "Coin0008I MODEL read with 0 errors\n",
      "Option for timeMode changed from cpu to elapsed\n",
      "Continuous objective value is 118 - 0.00 seconds\n",
      "Cgl0004I processed model has 1 rows, 2 columns (2 integer (0 of which binary)) and 2 elements\n",
      "Cutoff increment increased from 1e-05 to 1.9999\n",
      "Cbc0012I Integer solution of -114 found by DiveCoefficient after 0 iterations and 0 nodes (0.00 seconds)\n",
      "Cbc0012I Integer solution of -116 found by DiveCoefficient after 0 iterations and 0 nodes (0.00 seconds)\n",
      "Cbc0013I At root node, 0 cuts changed objective from -117.33333 to -116 in 2 passes\n",
      "Cbc0014I Cut generator 0 (Probing) - 0 row cuts average 0.0 elements, 3 column cuts (3 active)  in 0.000 seconds - new frequency is 1\n",
      "Cbc0014I Cut generator 1 (Gomory) - 0 row cuts average 0.0 elements, 0 column cuts (0 active)  in 0.000 seconds - new frequency is -100\n",
      "Cbc0014I Cut generator 2 (Knapsack) - 0 row cuts average 0.0 elements, 0 column cuts (0 active)  in 0.000 seconds - new frequency is -100\n",
      "Cbc0014I Cut generator 3 (Clique) - 0 row cuts average 0.0 elements, 0 column cuts (0 active)  in 0.000 seconds - new frequency is -100\n",
      "Cbc0014I Cut generator 4 (MixedIntegerRounding2) - 0 row cuts average 0.0 elements, 0 column cuts (0 active)  in 0.000 seconds - new frequency is -100\n",
      "Cbc0014I Cut generator 5 (FlowCover) - 0 row cuts average 0.0 elements, 0 column cuts (0 active)  in 0.000 seconds - new frequency is -100\n",
      "Cbc0001I Search completed - best objective -116, took 0 iterations and 0 nodes (0.00 seconds)\n",
      "Cbc0035I Maximum depth 0, 0 variables fixed on reduced cost\n",
      "Cuts at root node changed objective from -117.333 to -116\n",
      "Probing was tried 2 times and created 3 cuts of which 0 were active after adding rounds of cuts (0.000 seconds)\n",
      "Gomory was tried 2 times and created 0 cuts of which 0 were active after adding rounds of cuts (0.000 seconds)\n",
      "Knapsack was tried 2 times and created 0 cuts of which 0 were active after adding rounds of cuts (0.000 seconds)\n",
      "Clique was tried 2 times and created 0 cuts of which 0 were active after adding rounds of cuts (0.000 seconds)\n",
      "MixedIntegerRounding2 was tried 2 times and created 0 cuts of which 0 were active after adding rounds of cuts (0.000 seconds)\n",
      "FlowCover was tried 2 times and created 0 cuts of which 0 were active after adding rounds of cuts (0.000 seconds)\n",
      "TwoMirCuts was tried 1 times and created 0 cuts of which 0 were active after adding rounds of cuts (0.000 seconds)\n",
      "ZeroHalf was tried 1 times and created 0 cuts of which 0 were active after adding rounds of cuts (0.000 seconds)\n",
      "\n",
      "Result - Optimal solution found\n",
      "\n",
      "Objective value:                116.00000000\n",
      "Enumerated nodes:               0\n",
      "Total iterations:               0\n",
      "Time (CPU seconds):             0.00\n",
      "Time (Wallclock seconds):       0.00\n",
      "\n",
      "Option for printingOptions changed from normal to all\n",
      "Total time (CPU seconds):       0.00   (Wallclock seconds):       0.01\n",
      "\n",
      "Optimal solution: a= 2.0  b= 12.0\n",
      "Maximized profit = 116.0\n"
     ]
    }
   ],
   "source": [
    "problem.solve()\n",
    "\n",
    "optimal_a = pl.value(a)\n",
    "optimal_b = pl.value(b)\n",
    "optimal_profit = pl.value(problem.objective)\n",
    "\n",
    "print(\"Optimal solution: a=\", optimal_a, \" b=\", optimal_b)\n",
    "print(\"Maximized profit =\", optimal_profit)"
   ]
  },
  {
   "cell_type": "code",
   "execution_count": null,
   "metadata": {},
   "outputs": [],
   "source": []
  },
  {
   "cell_type": "code",
   "execution_count": null,
   "metadata": {},
   "outputs": [],
   "source": []
  }
 ],
 "metadata": {
  "kernelspec": {
   "display_name": "env",
   "language": "python",
   "name": "python3"
  },
  "language_info": {
   "codemirror_mode": {
    "name": "ipython",
    "version": 3
   },
   "file_extension": ".py",
   "mimetype": "text/x-python",
   "name": "python",
   "nbconvert_exporter": "python",
   "pygments_lexer": "ipython3",
   "version": "3.13.1"
  }
 },
 "nbformat": 4,
 "nbformat_minor": 2
}
