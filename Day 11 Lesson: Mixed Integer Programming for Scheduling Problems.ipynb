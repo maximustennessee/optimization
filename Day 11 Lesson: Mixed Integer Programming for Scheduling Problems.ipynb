{
 "cells": [
  {
   "cell_type": "markdown",
   "metadata": {},
   "source": [
    "### Day 11: Balanced Job Scheduling on 2 Machines Using Mixed Integer Programming  \n",
    "In this lesson, we consider a scheduling problem with two machines. There are two types of jobs (A and B), and each job requires 1 unit of processing time. Each machine has a time limit (for example, 8 time units). We want to maximize the total number of jobs processed (across both machines) subject to two key conditions:\n",
    "\n",
    "The processing time on each machine cannot exceed the time limit.  \n",
    "The number of type A jobs processed must equal the number of type B jobs processed (i.e., the production must be balanced).\n"
   ]
  },
  {
   "cell_type": "code",
   "execution_count": 122,
   "metadata": {},
   "outputs": [],
   "source": [
    "from pulp import LpProblem, LpVariable, LpMinimize, LpInteger, LpContinuous, LpStatus, value"
   ]
  },
  {
   "cell_type": "code",
   "execution_count": 130,
   "metadata": {},
   "outputs": [
    {
     "name": "stdout",
     "output_type": "stream",
     "text": [
      "Welcome to the CBC MILP Solver \n",
      "Version: 2.10.3 \n",
      "Build Date: Dec 15 2019 \n",
      "\n",
      "command line - /Users/max.howard/development/learning/optimization/env/lib/python3.13/site-packages/pulp/solverdir/cbc/osx/64/cbc /var/folders/4_/zpvbqjvs2f3b5dpcg0lk0tsc0000gn/T/396b6c771c9849fcb9b12139ba635612-pulp.mps -timeMode elapsed -branch -printingOptions all -solution /var/folders/4_/zpvbqjvs2f3b5dpcg0lk0tsc0000gn/T/396b6c771c9849fcb9b12139ba635612-pulp.sol (default strategy 1)\n",
      "At line 2 NAME          MODEL\n",
      "At line 3 ROWS\n",
      "At line 10 COLUMNS\n",
      "At line 38 RHS\n",
      "At line 44 BOUNDS\n",
      "At line 51 ENDATA\n",
      "Problem MODEL has 5 rows, 7 columns and 14 elements\n",
      "Coin0008I MODEL read with 0 errors\n",
      "Option for timeMode changed from cpu to elapsed\n",
      "Continuous objective value is 15 - 0.00 seconds\n",
      "Cgl0004I processed model has 2 rows, 3 columns (2 integer (0 of which binary)) and 6 elements\n",
      "Cutoff increment increased from 1e-05 to 0.9999\n",
      "Cbc0012I Integer solution of 15 found by DiveCoefficient after 0 iterations and 0 nodes (0.00 seconds)\n",
      "Cbc0001I Search completed - best objective 15, took 0 iterations and 0 nodes (0.00 seconds)\n",
      "Cbc0035I Maximum depth 0, 0 variables fixed on reduced cost\n",
      "Cuts at root node changed objective from 15 to 15\n",
      "Probing was tried 0 times and created 0 cuts of which 0 were active after adding rounds of cuts (0.000 seconds)\n",
      "Gomory was tried 0 times and created 0 cuts of which 0 were active after adding rounds of cuts (0.000 seconds)\n",
      "Knapsack was tried 0 times and created 0 cuts of which 0 were active after adding rounds of cuts (0.000 seconds)\n",
      "Clique was tried 0 times and created 0 cuts of which 0 were active after adding rounds of cuts (0.000 seconds)\n",
      "MixedIntegerRounding2 was tried 0 times and created 0 cuts of which 0 were active after adding rounds of cuts (0.000 seconds)\n",
      "FlowCover was tried 0 times and created 0 cuts of which 0 were active after adding rounds of cuts (0.000 seconds)\n",
      "TwoMirCuts was tried 0 times and created 0 cuts of which 0 were active after adding rounds of cuts (0.000 seconds)\n",
      "ZeroHalf was tried 0 times and created 0 cuts of which 0 were active after adding rounds of cuts (0.000 seconds)\n",
      "\n",
      "Result - Optimal solution found\n",
      "\n",
      "Objective value:                15.00000000\n",
      "Enumerated nodes:               0\n",
      "Total iterations:               0\n",
      "Time (CPU seconds):             0.00\n",
      "Time (Wallclock seconds):       0.00\n",
      "\n",
      "Option for printingOptions changed from normal to all\n",
      "Total time (CPU seconds):       0.00   (Wallclock seconds):       0.01\n",
      "\n",
      "Status: Optimal\n",
      "Machine 1: Type A = 1.0 Type B = 1.0 Type C = 6.0\n",
      "Machine 2: Type A = 5.0 Type B = 5.0 Type C = 0.0\n",
      "Optimal Makespan = 15.0\n"
     ]
    }
   ],
   "source": [
    "from pulp import LpProblem, LpVariable, LpMinimize, LpInteger, LpContinuous, LpStatus, value\n",
    "# Create the LP problem (minimization of makespan)\n",
    "prob = LpProblem(\"Balanced_Job_Scheduling_Makespan\", LpMinimize)\n",
    "\n",
    "# Number of jobs required for each type\n",
    "jobs_per_type = 6\n",
    "\n",
    "# Processing times (in time units)\n",
    "p_A = 1  # Type A\n",
    "p_B = 2  # Type B\n",
    "p_C = 2  # Type C\n",
    "\n",
    "# Decision variables: number of jobs of each type on each machine (integers)\n",
    "x_A1 = LpVariable(\"x_A1\", lowBound=0, cat=LpInteger)\n",
    "x_A2 = LpVariable(\"x_A2\", lowBound=0, cat=LpInteger)\n",
    "x_B1 = LpVariable(\"x_B1\", lowBound=0, cat=LpInteger)\n",
    "x_B2 = LpVariable(\"x_B2\", lowBound=0, cat=LpInteger)\n",
    "x_C1 = LpVariable(\"x_C1\", lowBound=0, cat=LpInteger)\n",
    "x_C2 = LpVariable(\"x_C2\", lowBound=0, cat=LpInteger)\n",
    "\n",
    "# Makespan variable (continuous)\n",
    "C_max = LpVariable(\"C_max\", lowBound=0, cat=LpContinuous)\n",
    "\n",
    "# Objective: minimize makespan\n",
    "prob += C_max, \"Minimize_Makespan\"\n",
    "\n",
    "# Balance constraints: total jobs of each type equals 6\n",
    "prob += x_A1 + x_A2 == jobs_per_type, \"Balance_Type_A\"\n",
    "prob += x_B1 + x_B2 == jobs_per_type, \"Balance_Type_B\"\n",
    "prob += x_C1 + x_C2 == jobs_per_type, \"Balance_Type_C\"\n",
    "\n",
    "# Define total processing time on each machine\n",
    "T1 = p_A * x_A1 + p_B * x_B1 + p_C * x_C1\n",
    "T2 = p_A * x_A2 + p_B * x_B2 + p_C * x_C2\n",
    "\n",
    "# Makespan constraints: C_max must be at least the processing time on each machine\n",
    "prob += C_max >= T1, \"Makespan_Machine1\"\n",
    "prob += C_max >= T2, \"Makespan_Machine2\"\n",
    "\n",
    "# Solve the problem\n",
    "prob.solve()\n",
    "\n",
    "# Print results\n",
    "print(\"Status:\", LpStatus[prob.status])\n",
    "print(\"Machine 1: Type A =\", value(x_A1), \"Type B =\", value(x_B1), \"Type C =\", value(x_C1))\n",
    "print(\"Machine 2: Type A =\", value(x_A2), \"Type B =\", value(x_B2), \"Type C =\", value(x_C2))\n",
    "print(\"Optimal Makespan =\", value(C_max))\n"
   ]
  }
 ],
 "metadata": {
  "kernelspec": {
   "display_name": "env",
   "language": "python",
   "name": "python3"
  },
  "language_info": {
   "codemirror_mode": {
    "name": "ipython",
    "version": 3
   },
   "file_extension": ".py",
   "mimetype": "text/x-python",
   "name": "python",
   "nbconvert_exporter": "python",
   "pygments_lexer": "ipython3",
   "version": "3.13.1"
  }
 },
 "nbformat": 4,
 "nbformat_minor": 2
}
