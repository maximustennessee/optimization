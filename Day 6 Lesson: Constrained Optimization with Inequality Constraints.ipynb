{
 "cells": [
  {
   "cell_type": "markdown",
   "metadata": {},
   "source": [
    "# Day 6\n",
    "\n",
    "Objective\n",
    "Learn to solve optimization problems that include inequality constraints. Inequality constraints limit the feasible region by requiring that a function of the decision variables be nonnegative (or nonpositive). In SciPy’s minimize, you can specify these constraints using dictionaries.\n",
    "\n",
    "### Key Concepts\n",
    "#### Inequality Constraints:\n",
    "A constraint of the form: c(x)≥0 defines a feasible region. In SciPy, such a constraint is passed as a dictionary with \"type\": \"ineq\" and a function that returns a nonnegative value when the constraint is satisfied.\n",
    "\n",
    "#### Using SciPy’s minimize with Constraints:\n",
    "The minimize function accepts a parameter constraints (a dictionary or list of dictionaries) where each dictionary defines one constraint. For example:"
   ]
  },
  {
   "cell_type": "code",
   "execution_count": 3,
   "metadata": {},
   "outputs": [],
   "source": [
    "import numpy as np\n",
    "from scipy.optimize import minimize"
   ]
  },
  {
   "cell_type": "code",
   "execution_count": 4,
   "metadata": {},
   "outputs": [],
   "source": [
    "# Define function to minimize\n",
    "\n",
    "def f(x):\n",
    "    \n",
    "    return (x[0] - 2) ** 2 + (x[1] - 3) ** 2"
   ]
  },
  {
   "cell_type": "code",
   "execution_count": 5,
   "metadata": {},
   "outputs": [],
   "source": [
    "# Define the inequality constraint\n",
    "\n",
    "def constraint_1(x):\n",
    "\n",
    "    return x[0] + x[1] - 7\n",
    "\n",
    "constraint = {'type': 'ineq', 'fun': constraint_1}\n",
    "\n",
    "# OR\n",
    "\n",
    "constraint = {'type': 'ineq', 'fun': lambda x: x[0] + x[1] - 7}"
   ]
  },
  {
   "cell_type": "code",
   "execution_count": 6,
   "metadata": {},
   "outputs": [],
   "source": [
    "initial_guess = [2,3]"
   ]
  },
  {
   "cell_type": "code",
   "execution_count": 8,
   "metadata": {},
   "outputs": [
    {
     "name": "stdout",
     "output_type": "stream",
     "text": [
      "Optimal x = [3. 4.]\n",
      "Minimum f(x) =  2.000000000000001\n"
     ]
    }
   ],
   "source": [
    "result = minimize(f, initial_guess, method='SLSQP', constraints=constraint)\n",
    "\n",
    "print(\"Optimal x =\", result.x)\n",
    "print(\"Minimum f(x) = \", result.fun)"
   ]
  }
 ],
 "metadata": {
  "kernelspec": {
   "display_name": "env",
   "language": "python",
   "name": "python3"
  },
  "language_info": {
   "codemirror_mode": {
    "name": "ipython",
    "version": 3
   },
   "file_extension": ".py",
   "mimetype": "text/x-python",
   "name": "python",
   "nbconvert_exporter": "python",
   "pygments_lexer": "ipython3",
   "version": "3.13.1"
  }
 },
 "nbformat": 4,
 "nbformat_minor": 2
}
